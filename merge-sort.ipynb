{
 "cells": [
  {
   "cell_type": "markdown",
   "id": "22e2cf71",
   "metadata": {},
   "source": [
    "# Aşağıdaki dizinin sort türüne göre aşamalarını yazınız.\n",
    "\n",
    "### [16,21,11,8,12,22] -> Merge Sort"
   ]
  },
  {
   "cell_type": "markdown",
   "id": "71be8177",
   "metadata": {},
   "source": [
    "1-) [16,21,11,8,12,22]\n",
    "\n",
    "2-) [16,21,11]--[8,12,22]\n",
    "\n",
    "3-) [16]--[11,21]----[8]--[12,22]\n",
    "\n",
    "4-) [11,16,21]---[8,12,22]\n",
    "\n",
    "5-) [8,11,12,16,21,22]"
   ]
  },
  {
   "cell_type": "markdown",
   "id": "5b1740e3",
   "metadata": {},
   "source": [
    "BİG-O\n",
    "\n",
    "O(N*2)"
   ]
  },
  {
   "cell_type": "code",
   "execution_count": null,
   "id": "7095429e",
   "metadata": {},
   "outputs": [],
   "source": []
  }
 ],
 "metadata": {
  "kernelspec": {
   "display_name": "Python 3 (ipykernel)",
   "language": "python",
   "name": "python3"
  },
  "language_info": {
   "codemirror_mode": {
    "name": "ipython",
    "version": 3
   },
   "file_extension": ".py",
   "mimetype": "text/x-python",
   "name": "python",
   "nbconvert_exporter": "python",
   "pygments_lexer": "ipython3",
   "version": "3.9.7"
  }
 },
 "nbformat": 4,
 "nbformat_minor": 5
}

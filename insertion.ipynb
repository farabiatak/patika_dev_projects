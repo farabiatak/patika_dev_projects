{
 "cells": [
  {
   "cell_type": "markdown",
   "id": "29664c50",
   "metadata": {},
   "source": [
    " #           INSERTION SORT PROJESI"
   ]
  },
  {
   "cell_type": "markdown",
   "id": "6a0ab887",
   "metadata": {},
   "source": [
    "###  [22,27,16,2,18,6]   "
   ]
  },
  {
   "cell_type": "markdown",
   "id": "9af18556",
   "metadata": {},
   "source": [
    "1-) Yukarı verilen dizinin sort türüne göre aşamalarını yazınız."
   ]
  },
  {
   "cell_type": "markdown",
   "id": "f6fabae6",
   "metadata": {},
   "source": [
    "[22,27,16,2,18,6] -> n\n",
    "[2,27,16,22,18,6] -> n-1\n",
    "[2,6,16,22,18,27] -> n-2\n",
    "[2,6,16,18,22,27] -> n-3"
   ]
  },
  {
   "cell_type": "markdown",
   "id": "864e714b",
   "metadata": {},
   "source": [
    "2-) Big-O gösterimini yazınız.\n",
    "\n",
    "-> O(n^2)"
   ]
  },
  {
   "cell_type": "markdown",
   "id": "36c410e0",
   "metadata": {},
   "source": [
    "3-)Time Complexity\n",
    "\n",
    "BEST(2)   =      [2,6,16,18,22,27]\n",
    "\n",
    "WORST(27)   =   [2,6,16,18,22,27]\n",
    "\n",
    "AVERAGE(18 or 16)  =  [2,6,16,18,22,27]"
   ]
  },
  {
   "cell_type": "markdown",
   "id": "e0f1b0fa",
   "metadata": {},
   "source": [
    "4-)Dizi sıralandıktan sonra 18 sayısı hangi case kapsamına girer? Yazınız.\n",
    "\n",
    "Average case sınıfına girer."
   ]
  },
  {
   "cell_type": "markdown",
   "id": "f64b297d",
   "metadata": {},
   "source": [
    "[7,3,5,8,2,9,4,15,6] dizisinin Insertion Sort'a göre ilk 4 adımını yazınız.\n",
    "\n",
    "\n",
    "[2,3,5,8,7,9,4,15,6]  -1-\n",
    "\n",
    "[2,3,5,7,8,9,4,15,6]  -2- \n",
    "\n",
    "[2,3,4,5,7,8,9,15,6]  -3-\n",
    "\n",
    "[2,3,4,5,6,7,8,9,15]  -4-"
   ]
  },
  {
   "cell_type": "code",
   "execution_count": null,
   "id": "8c94a4dc",
   "metadata": {},
   "outputs": [],
   "source": []
  }
 ],
 "metadata": {
  "kernelspec": {
   "display_name": "Python 3 (ipykernel)",
   "language": "python",
   "name": "python3"
  },
  "language_info": {
   "codemirror_mode": {
    "name": "ipython",
    "version": 3
   },
   "file_extension": ".py",
   "mimetype": "text/x-python",
   "name": "python",
   "nbconvert_exporter": "python",
   "pygments_lexer": "ipython3",
   "version": "3.9.7"
  }
 },
 "nbformat": 4,
 "nbformat_minor": 5
}

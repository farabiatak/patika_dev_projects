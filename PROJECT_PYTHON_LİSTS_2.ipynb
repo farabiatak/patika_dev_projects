{
 "cells": [
  {
   "cell_type": "code",
   "execution_count": 25,
   "id": "33b56e1c",
   "metadata": {},
   "outputs": [],
   "source": [
    "#input: [[1,'a',['cat'],2],[[[3]],'dog'],4,5]\n",
    "\n",
    "#output: [1,'a','cat',2,3,'dog',4,5]\n"
   ]
  },
  {
   "cell_type": "code",
   "execution_count": 64,
   "id": "342434d9",
   "metadata": {},
   "outputs": [],
   "source": [
    "#Verili listeyi düzeltme\n",
    "old_list = [[1,'a',['cat'],2],[[[3]],'dog'],4,5]\n",
    "bos_list=[]"
   ]
  },
  {
   "cell_type": "code",
   "execution_count": 69,
   "id": "0a8aa5d3",
   "metadata": {},
   "outputs": [],
   "source": [
    "def duzlestirme(x) :\n",
    "    for i in x :\n",
    "        if isinstance(i,list):  \n",
    "            duzlestirme(i)\n",
    "        else:\n",
    "            bos_list.append(i)\n",
    "     \n",
    "            \n",
    "            "
   ]
  },
  {
   "cell_type": "code",
   "execution_count": 70,
   "id": "1a266aa7",
   "metadata": {},
   "outputs": [
    {
     "data": {
      "text/plain": [
       "[1, 'a', 'cat', 2, 3, 'dog', 4, 5]"
      ]
     },
     "execution_count": 70,
     "metadata": {},
     "output_type": "execute_result"
    }
   ],
   "source": [
    "duzlestirme(old_list)\n",
    "bos_list"
   ]
  },
  {
   "cell_type": "code",
   "execution_count": null,
   "id": "937a6b78",
   "metadata": {},
   "outputs": [],
   "source": [
    "#####################################################################"
   ]
  },
  {
   "cell_type": "code",
   "execution_count": null,
   "id": "1d4888ae",
   "metadata": {},
   "outputs": [],
   "source": [
    "#2- Verilen listenin içindeki elemanları tersine döndüren bir fonksiyon yazın. Eğer listenin içindeki elemanlar da liste içeriyorsa onların elemanlarını da tersine döndürün. Örnek olarak:\n",
    "\n",
    "#input: [[1, 2], [3, 4], [5, 6, 7]]\n",
    "\n",
    "#output: [[[7, 6, 5], [4, 3], [2, 1]]"
   ]
  },
  {
   "cell_type": "code",
   "execution_count": 83,
   "id": "a5da6910",
   "metadata": {},
   "outputs": [],
   "source": [
    "input_list= [[1, 2], [3, 4], [5, 6, 7]]\n",
    "empty_list = []\n",
    "def cevirme(x):\n",
    "    for i in x :\n",
    "        if isinstance(i,list):\n",
    "            i.reverse()\n",
    "            empty_list.append(i)\n",
    "        else:\n",
    "            break\n",
    "    empty_list.reverse()"
   ]
  },
  {
   "cell_type": "code",
   "execution_count": 84,
   "id": "2ff584ac",
   "metadata": {},
   "outputs": [
    {
     "name": "stdout",
     "output_type": "stream",
     "text": [
      "[[7, 6, 5], [4, 3], [2, 1]]\n"
     ]
    }
   ],
   "source": [
    "cevirme(input_list)\n",
    "print(empty_list)"
   ]
  },
  {
   "cell_type": "code",
   "execution_count": null,
   "id": "4e917e15",
   "metadata": {},
   "outputs": [],
   "source": []
  }
 ],
 "metadata": {
  "kernelspec": {
   "display_name": "Python 3 (ipykernel)",
   "language": "python",
   "name": "python3"
  },
  "language_info": {
   "codemirror_mode": {
    "name": "ipython",
    "version": 3
   },
   "file_extension": ".py",
   "mimetype": "text/x-python",
   "name": "python",
   "nbconvert_exporter": "python",
   "pygments_lexer": "ipython3",
   "version": "3.9.7"
  }
 },
 "nbformat": 4,
 "nbformat_minor": 5
}

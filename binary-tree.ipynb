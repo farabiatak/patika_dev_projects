{
 "cells": [
  {
   "cell_type": "markdown",
   "id": "67699a59",
   "metadata": {},
   "source": [
    "[7, 5, 1, 8, 3, 6, 0, 9, 4, 2] dizisinin Binary-Search-Tree aşamalarını yazınız."
   ]
  },
  {
   "cell_type": "markdown",
   "id": "74320b0a",
   "metadata": {},
   "source": [
    "[1,2,3,4,5,6,7,8,9]\n",
    "\n",
    "               5\n",
    "            /     \\\n",
    "          3         7\n",
    "        /   \\      /   \\\n",
    "      2       4  6      8\n",
    "     /  \\                  \\\n",
    "    1                        9"
   ]
  },
  {
   "cell_type": "code",
   "execution_count": null,
   "id": "12e9a41d",
   "metadata": {},
   "outputs": [],
   "source": []
  }
 ],
 "metadata": {
  "kernelspec": {
   "display_name": "Python 3 (ipykernel)",
   "language": "python",
   "name": "python3"
  },
  "language_info": {
   "codemirror_mode": {
    "name": "ipython",
    "version": 3
   },
   "file_extension": ".py",
   "mimetype": "text/x-python",
   "name": "python",
   "nbconvert_exporter": "python",
   "pygments_lexer": "ipython3",
   "version": "3.9.7"
  }
 },
 "nbformat": 4,
 "nbformat_minor": 5
}
